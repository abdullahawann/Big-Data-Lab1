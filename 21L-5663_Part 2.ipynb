{
 "cells": [
  {
   "cell_type": "markdown",
   "id": "a3cce80c",
   "metadata": {},
   "source": [
    "# Task 1"
   ]
  },
  {
   "cell_type": "code",
   "execution_count": 1,
   "id": "ae80156d",
   "metadata": {},
   "outputs": [
    {
     "name": "stdout",
     "output_type": "stream",
     "text": [
      "Enter 1 or 2 to draw the shape:\n",
      "1\n",
      "    *\n",
      "   * *\n",
      "  *   *\n",
      " *     *\n",
      "*       *\n"
     ]
    }
   ],
   "source": [
    "print(\"Enter 1 or 2 to draw the shape:\")\n",
    "num = int(input())\n",
    "\n",
    "#This will draw a triangle if user enters 1\n",
    "if num == 1:\n",
    "  k = 0\n",
    "  for i in range(1,5+1): \n",
    "        for j in range(i,5):\n",
    "            print(' ', end='')\n",
    "        while (k != (2 * i - 1)) :\n",
    "            if (k == 0 or k == 2 * i - 2) :\n",
    "                print('*', end='')\n",
    "            else :\n",
    "                print(' ', end ='')\n",
    "            k = k + 1\n",
    "        k = 0;\n",
    "        print (\"\") \n",
    "                                             \n",
    "\n",
    "#This will draw a rectangle if user enters 1\n",
    "if num == 2:\n",
    "   for i in range(7):\n",
    "    for j in range(7):\n",
    "       if i == 0 or i == 5 - 1 or j == 0 or j == 5 - 1:\n",
    "            print('*', end='')\n",
    "       else:\n",
    "            print(' ', end=' ')"
   ]
  },
  {
   "cell_type": "markdown",
   "id": "52be8cd4",
   "metadata": {},
   "source": [
    "# Task 2"
   ]
  },
  {
   "cell_type": "code",
   "execution_count": 2,
   "id": "562754a6",
   "metadata": {},
   "outputs": [
    {
     "name": "stdout",
     "output_type": "stream",
     "text": [
      "{'a': 1, 'b': 3, 'c': 5, 'd': 7}\n",
      "1\n",
      "7\n",
      "5\n",
      "Initial Dictionary:  {'a': 1, 'b': 3, 'c': 5, 'd': 7}\n",
      "changed Dictionary: {'a': 1, 'b': 9, 'c': 5, 'd': 7}\n",
      "number of elements in the given dictionary are 4\n",
      "number of elements in the given tuple are 5\n",
      "True\n",
      "False\n",
      "7\n",
      "6\n",
      "5\n",
      "4\n",
      "3\n"
     ]
    }
   ],
   "source": [
    "dictionary = {\"a\":1, \"b\":3, \"c\":5, \"d\":7,}\n",
    "\n",
    "#1) Print the dictionary items\n",
    "print(dictionary) \n",
    "\n",
    "#2) access items\n",
    "print(dictionary[\"a\"])\n",
    "print(dictionary[\"d\"])\n",
    "\n",
    "#3) use get()\n",
    "x = dictionary.get(\"c\")\n",
    "print(x)\n",
    "\n",
    "#4)change values\n",
    "print(\"Initial Dictionary: \", dictionary)\n",
    "dictionary[\"b\"] = 9\n",
    "print(\"changed Dictionary:\", dictionary)\n",
    "\n",
    "#5)use len()\n",
    "print(\"number of elements in the given dictionary are\", len(dictionary))\n",
    "\n",
    "#B) Creating a tuple\n",
    "Tuple = (7, 6, 5, 4, 3)\n",
    "\n",
    "#1)Add items\n",
    "#elements can not be added to tuples due to their immutable property.\n",
    "\n",
    "#2)len()\n",
    "print(\"number of elements in the given tuple are\", len(Tuple))\n",
    "\n",
    "#3)check for item in tuple\n",
    "print(6 in Tuple) \n",
    "print(9 in Tuple)\n",
    "\n",
    "#4)Access items\n",
    "for i in range(len(Tuple)):\n",
    "  print(Tuple[i])"
   ]
  },
  {
   "cell_type": "markdown",
   "id": "4bc8ef95",
   "metadata": {},
   "source": [
    "# Task 3"
   ]
  },
  {
   "cell_type": "code",
   "execution_count": 3,
   "id": "048783a4",
   "metadata": {},
   "outputs": [],
   "source": [
    "def cal_volume(p, r, h):\n",
    "    volume = p * r**2 * h\n",
    "    return volume"
   ]
  },
  {
   "cell_type": "code",
   "execution_count": 4,
   "id": "9b8c37c1",
   "metadata": {},
   "outputs": [
    {
     "name": "stdout",
     "output_type": "stream",
     "text": [
      "Enter the value of r : \n",
      "5.88\n",
      "Enter the value of h : \n",
      "454\n",
      "The volume of the rod is : \n",
      "49303.578\n"
     ]
    }
   ],
   "source": [
    "print(\"Enter the value of r : \")\n",
    "r = float(input())\n",
    "print(\"Enter the value of h : \")\n",
    "h = float(input())\n",
    "pie = 3.141\n",
    "print(\"The volume of the rod is : \")\n",
    "v = cal_volume(pie, r, h)\n",
    "print(\"%.3f\" % v)"
   ]
  },
  {
   "cell_type": "markdown",
   "id": "d19f28f9",
   "metadata": {},
   "source": [
    "# Task 4"
   ]
  },
  {
   "cell_type": "code",
   "execution_count": 5,
   "id": "7e21ca24",
   "metadata": {},
   "outputs": [],
   "source": [
    "def addition(num1, num2):\n",
    "  n = num1 + num2\n",
    "  print(\"Result of addition is : \", n) "
   ]
  },
  {
   "cell_type": "code",
   "execution_count": 6,
   "id": "17876c09",
   "metadata": {},
   "outputs": [],
   "source": [
    "def subtraction(num1, num2):\n",
    "  n = num1 - num2\n",
    "  print(\"Result of subtraction is : \", n) "
   ]
  },
  {
   "cell_type": "code",
   "execution_count": 7,
   "id": "1e91c1c1",
   "metadata": {},
   "outputs": [],
   "source": [
    "def multiplication(num1, num2):\n",
    "   n = num1 * num2\n",
    "   print(\"Result of multiplication is\", n) "
   ]
  },
  {
   "cell_type": "code",
   "execution_count": 8,
   "id": "6596b9bf",
   "metadata": {},
   "outputs": [],
   "source": [
    "def divison(num1, num2):   \n",
    "  n = num1 / num2\n",
    "  print(\"divison of numbers is\", n) "
   ]
  },
  {
   "cell_type": "code",
   "execution_count": null,
   "id": "42ecadfd",
   "metadata": {},
   "outputs": [
    {
     "name": "stdout",
     "output_type": "stream",
     "text": [
      "Enter any number : \n"
     ]
    }
   ],
   "source": [
    "print(\"Enter any number : \")\n",
    "num1 = int(input())\n",
    "print(\"Enter another number : \")\n",
    "num2 = int(input())\n",
    "\n",
    "print(\"Select any option from the menu :\")\n",
    "print(\"1. To add numbers\")\n",
    "print(\"2. To subtract numbers\")\n",
    "print(\"3. To multiply numbers\")\n",
    "print(\"4. To divide numbers\")\n",
    "print(\"Enter the option number : \")\n",
    "opt = int(input())\n",
    "if opt == 1:\n",
    "  addition(num1, num2)\n",
    "if opt == 2:\n",
    "  subtraction(num1, num2)\n",
    "if opt == 3:\n",
    "  multiplication(num1, num2)\n",
    "if opt == 4:\n",
    "  divison(num1, num2)"
   ]
  },
  {
   "cell_type": "markdown",
   "id": "e716d1f6",
   "metadata": {},
   "source": [
    "# Task 5"
   ]
  },
  {
   "cell_type": "code",
   "execution_count": null,
   "id": "d7be0b95",
   "metadata": {},
   "outputs": [],
   "source": [
    "def checkPalindrome(str):\n",
    "    for i in range(0, int(len(str)/2)):\n",
    "        if str[i] != str[len(str)-i-1]:\n",
    "            return False\n",
    "        return True"
   ]
  },
  {
   "cell_type": "code",
   "execution_count": null,
   "id": "907bbfa4",
   "metadata": {},
   "outputs": [],
   "source": [
    "print(\"Enter a string to check if palindrome : \")\n",
    "string = input()\n",
    "result = checkPalindrome(string)\n",
    "if result == False:\n",
    "    print(\"The string is not a palindrome\")\n",
    "if result == True:\n",
    "    print(\"The string is a palindrome\")"
   ]
  },
  {
   "cell_type": "markdown",
   "id": "4e88f2e0",
   "metadata": {},
   "source": [
    "# Task 6"
   ]
  },
  {
   "cell_type": "code",
   "execution_count": null,
   "id": "0e0c8cc6",
   "metadata": {},
   "outputs": [],
   "source": [
    "def Find_factorial(num):\n",
    "    factorial = 1\n",
    "    for i in range(1,num + 1):\n",
    "       factorial = factorial*i\n",
    "    return factorial"
   ]
  },
  {
   "cell_type": "code",
   "execution_count": null,
   "id": "231e4375",
   "metadata": {},
   "outputs": [],
   "source": [
    "print(\"Enter any number to find factorial : \")\n",
    "n = int(input())\n",
    "if n < 0:\n",
    "    print(\"Wrong input\")\n",
    "if n == 0:\n",
    "    print(\"The factorail of zero is 1\")\n",
    "else:\n",
    "    print(\"The factorial of the number is : \")\n",
    "    print(Find_factorial(n))"
   ]
  },
  {
   "cell_type": "markdown",
   "id": "edf9e1b6",
   "metadata": {},
   "source": [
    "# Task 7"
   ]
  },
  {
   "cell_type": "code",
   "execution_count": null,
   "id": "83f6b042",
   "metadata": {},
   "outputs": [],
   "source": [
    "def Check_ifsame(l1, l2):\n",
    "    if l1 == l2:\n",
    "        print(\"True\")\n",
    "    else:\n",
    "        print(\"False\")\n"
   ]
  },
  {
   "cell_type": "code",
   "execution_count": null,
   "id": "6aba4e63",
   "metadata": {},
   "outputs": [],
   "source": [
    "list1 = []  \n",
    "list2 = []  \n",
    "\n",
    "print(\"Enter the size of list 1 : \")\n",
    "n1 = int(input())\n",
    "\n",
    "print(\"Enter elements of list 1 : \")\n",
    "for i in range(0, n1):\n",
    "    number1 = int(input()) \n",
    "    list1.append(number1) \n",
    "print(\"List 1 is :\", list1)\n",
    "\n",
    "print(\"Enter the size of list 2 : \")\n",
    "n2 = int(input())\n",
    "\n",
    "print(\"Enter elements of list 2 : \")\n",
    "for i in range(0, n2):\n",
    "    number2 = int(input()) \n",
    "    list2.append(number2) \n",
    "print(\"List 1 is :\", list2)\n",
    "Check_ifsame(list1, list2)\n"
   ]
  },
  {
   "cell_type": "markdown",
   "id": "366e600e",
   "metadata": {},
   "source": [
    "# Task 8"
   ]
  },
  {
   "cell_type": "code",
   "execution_count": null,
   "id": "b9b1222b",
   "metadata": {},
   "outputs": [],
   "source": [
    "def check_superset(s1, s2):\n",
    "    return s1.issuperset(s2)"
   ]
  },
  {
   "cell_type": "code",
   "execution_count": null,
   "id": "503262a2",
   "metadata": {},
   "outputs": [],
   "source": [
    "set1 = {3, 5, 7, 9}\n",
    "set2 = {3, 9}\n",
    "\n",
    "if check_superset(set1, set1):\n",
    "    print(\"Set1 is a superset of itself\")\n",
    "else:\n",
    "    print(\"Set1 is not a superset of itself\")\n",
    "\n",
    "if check_superset(set1, set2):\n",
    "    print(\"Set1 is a superset of Set2\")\n",
    "else:\n",
    "    print(\"Set1 is not a superset of Set2\")"
   ]
  }
 ],
 "metadata": {
  "kernelspec": {
   "display_name": "Python 3 (ipykernel)",
   "language": "python",
   "name": "python3"
  },
  "language_info": {
   "codemirror_mode": {
    "name": "ipython",
    "version": 3
   },
   "file_extension": ".py",
   "mimetype": "text/x-python",
   "name": "python",
   "nbconvert_exporter": "python",
   "pygments_lexer": "ipython3",
   "version": "3.10.7"
  }
 },
 "nbformat": 4,
 "nbformat_minor": 5
}
