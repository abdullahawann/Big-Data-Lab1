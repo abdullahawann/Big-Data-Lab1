{
 "cells": [
  {
   "cell_type": "markdown",
   "id": "a5efd562",
   "metadata": {},
   "source": [
    "# Task 1"
   ]
  },
  {
   "cell_type": "code",
   "execution_count": 1,
   "id": "287496bf",
   "metadata": {},
   "outputs": [],
   "source": [
    "import numpy as np"
   ]
  },
  {
   "cell_type": "code",
   "execution_count": 2,
   "id": "74e06f59",
   "metadata": {},
   "outputs": [],
   "source": [
    "def rev(s):    \n",
    "    s = list(s)\n",
    "    s.reverse()\n",
    "    print(s)"
   ]
  },
  {
   "cell_type": "code",
   "execution_count": 3,
   "id": "5dca070f",
   "metadata": {},
   "outputs": [
    {
     "name": "stdout",
     "output_type": "stream",
     "text": [
      "Enter a string to reverse : \n",
      "hello world\n",
      "The string after being reversed is : \n",
      "['d', 'l', 'r', 'o', 'w', ' ', 'o', 'l', 'l', 'e', 'h']\n"
     ]
    }
   ],
   "source": [
    "print(\"Enter a string to reverse : \")\n",
    "string = input()\n",
    "print(\"The string after being reversed is : \")\n",
    "rev(string)"
   ]
  },
  {
   "cell_type": "markdown",
   "id": "a51c3184",
   "metadata": {},
   "source": [
    "# Task 2"
   ]
  },
  {
   "cell_type": "code",
   "execution_count": 4,
   "id": "17d750ee",
   "metadata": {},
   "outputs": [],
   "source": [
    "import numpy as np"
   ]
  },
  {
   "cell_type": "code",
   "execution_count": 5,
   "id": "179adb5e",
   "metadata": {},
   "outputs": [],
   "source": [
    "def checkPalindrome(str):\n",
    "    for i in range(0, int(len(str)/2)):\n",
    "        if str[i] != str[len(str)-i-1]:\n",
    "            return False\n",
    "        return True"
   ]
  },
  {
   "cell_type": "code",
   "execution_count": 6,
   "id": "715d801d",
   "metadata": {},
   "outputs": [
    {
     "name": "stdout",
     "output_type": "stream",
     "text": [
      "Enter a string to check if palindrome : \n",
      "c 1 i : v 4@ i c\n",
      "The string is a palindrome\n"
     ]
    }
   ],
   "source": [
    "print(\"Enter a string to check if palindrome : \")\n",
    "string = input()\n",
    "result = checkPalindrome(string)\n",
    "if result == False:\n",
    "    print(\"The string is not a palindrome\")\n",
    "if result == True:\n",
    "    print(\"The string is a palindrome\")"
   ]
  },
  {
   "cell_type": "markdown",
   "id": "cc67f5bb",
   "metadata": {},
   "source": [
    "# Task 3"
   ]
  },
  {
   "cell_type": "code",
   "execution_count": 7,
   "id": "9b2e5a5e",
   "metadata": {},
   "outputs": [],
   "source": [
    "def sqrroot(n):\n",
    "    result = n**(1/2)\n",
    "    print(result)"
   ]
  },
  {
   "cell_type": "code",
   "execution_count": 8,
   "id": "5e7cfc79",
   "metadata": {},
   "outputs": [
    {
     "name": "stdout",
     "output_type": "stream",
     "text": [
      "Enter a number you want to take sqr root of : \n",
      "81\n",
      "So the square root of number is : \n",
      "9.0\n"
     ]
    }
   ],
   "source": [
    "print(\"Enter a number you want to take sqr root of : \")\n",
    "num = float(input())\n",
    "if num > 0:\n",
    "    print(\"So the square root of number is : \")\n",
    "    sqrroot(num)\n",
    "if num < 0:\n",
    "    print(\"Wrong input\")"
   ]
  }
 ],
 "metadata": {
  "kernelspec": {
   "display_name": "Python 3 (ipykernel)",
   "language": "python",
   "name": "python3"
  },
  "language_info": {
   "codemirror_mode": {
    "name": "ipython",
    "version": 3
   },
   "file_extension": ".py",
   "mimetype": "text/x-python",
   "name": "python",
   "nbconvert_exporter": "python",
   "pygments_lexer": "ipython3",
   "version": "3.10.7"
  }
 },
 "nbformat": 4,
 "nbformat_minor": 5
}
